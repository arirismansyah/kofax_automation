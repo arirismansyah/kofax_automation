{
 "cells": [
  {
   "cell_type": "code",
   "execution_count": 2,
   "metadata": {},
   "outputs": [],
   "source": [
    "from pywinauto.application import Application\n",
    "import pywinauto\n",
    "from pywinauto import *\n",
    "from time import sleep\n",
    "from tqdm import tqdm\n",
    "from pywinauto.timings import wait_until, wait_until_passes"
   ]
  },
  {
   "cell_type": "code",
   "execution_count": 11,
   "metadata": {},
   "outputs": [],
   "source": [
    "def force_valid():\n",
    "    app = Application(backend='uia').connect(best_match='Kofax Transformation Modules - Validation')\n",
    "    app_dlg = app.window(best_match='Kofax Transformation Modules - Validation')\n",
    "\n",
    "    invalid_docs = int(app_dlg.StatusBar.children()[-1].window_text().replace(' ', '').split(':')[-1])\n",
    "    doc_ke = 0\n",
    "    \n",
    "    while(doc_ke<(invalid_docs)):\n",
    "        print('# doc ke: {}'.format(doc_ke+1))\n",
    "        invalid_fields = int(app_dlg.child_window(auto_id='lblFieldStatus').window_text().split(' ')[3])\n",
    "        if(invalid_fields==0):\n",
    "            app_dlg.type_keys(\"{ENTER}\")\n",
    "            if(len(save_dlg)>0):\n",
    "                # suspend batch\n",
    "                doc_ke+=1\n",
    "                print(\"# -- save doc\")\n",
    "                save_doc_yes = app_dlg.descendants(title=\"Yes\", control_type=\"Button\")\n",
    "                save_doc_yes[0].click()\n",
    "                continue\n",
    "\n",
    "        for i in range(0, invalid_fields):\n",
    "            print('---- force fields ke: {}'.format(i+1))\n",
    "            app_dlg.type_keys(\"^{ENTER}\")\n",
    "            force_dlg = app_dlg.descendants(title=\"Do you really want to force this field valid?\")\n",
    "\n",
    "            if(len(force_dlg)>0):\n",
    "                # suspend batch\n",
    "                print(\"# -- force field\")\n",
    "                force_doc_yes = app_dlg.descendants(title=\"Yes\", control_type=\"Button\")\n",
    "                force_doc_yes[0].click()\n",
    "\n",
    "        save_dlg = app_dlg.descendants(title=\"Do you want to save the current document?\")\n",
    "\n",
    "        if(len(save_dlg)>0):\n",
    "            # suspend batch\n",
    "            doc_ke+=1\n",
    "            print(\"# -- save doc\")\n",
    "            save_doc_yes = app_dlg.descendants(title=\"Yes\", control_type=\"Button\")\n",
    "            save_doc_yes[0].click()\n",
    "\n",
    "    close_ok = app_dlg.descendants(title=\"OK\")\n",
    "    if(len(close_ok)>0):\n",
    "        close_ok[0].click()\n",
    "    "
   ]
  },
  {
   "cell_type": "markdown",
   "metadata": {},
   "source": [
    "# JANGAN DIRUN DULU (INI PILIHAN TERAKHIR)"
   ]
  }
 ],
 "metadata": {
  "kernelspec": {
   "display_name": "Python 3.10.3 64-bit",
   "language": "python",
   "name": "python3"
  },
  "language_info": {
   "codemirror_mode": {
    "name": "ipython",
    "version": 3
   },
   "file_extension": ".py",
   "mimetype": "text/x-python",
   "name": "python",
   "nbconvert_exporter": "python",
   "pygments_lexer": "ipython3",
   "version": "3.10.3"
  },
  "orig_nbformat": 4,
  "vscode": {
   "interpreter": {
    "hash": "e462a0a707289914ad68b41b5d1ff966f90e7c9dd4ec700ae26b5bac71e99092"
   }
  }
 },
 "nbformat": 4,
 "nbformat_minor": 2
}
