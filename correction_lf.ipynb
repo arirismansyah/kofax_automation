{
 "cells": [
  {
   "cell_type": "code",
   "execution_count": 1,
   "metadata": {},
   "outputs": [],
   "source": [
    "from pywinauto.application import Application\n",
    "import pywinauto\n",
    "from pywinauto import *\n",
    "from time import sleep\n",
    "from tqdm import tqdm\n",
    "from pywinauto.timings import wait_until, wait_until_passes"
   ]
  },
  {
   "cell_type": "code",
   "execution_count": 2,
   "metadata": {},
   "outputs": [],
   "source": [
    "app = Application(backend='uia').connect(best_match='Kofax Transformation Modules - Correction')\n",
    "app_dlg = app.window(best_match='Kofax Transformation Modules - Correction')"
   ]
  },
  {
   "cell_type": "code",
   "execution_count": 9,
   "metadata": {},
   "outputs": [],
   "source": [
    "def force_correction():\n",
    "    app = Application(backend='uia').connect(best_match='Kofax Transformation Modules - Correction')\n",
    "    app_dlg = app.window(best_match='Kofax Transformation Modules - Correction')\n",
    "    incorrect_fields = int(app_dlg.StatusBar.children()[-1].window_text().replace(' ', '').split(':')[1])\n",
    "    for i in range(0, incorrect_fields):\n",
    "        print('forced_clean field ke: {}'.format(i+1))\n",
    "        app_dlg.type_keys(\"^{ENTER}\")\n",
    "        \n",
    "    close_dlg = app_dlg.descendants(title = \"There are no fields requiring correction. Close batch?\")\n",
    "    if(len(close_dlg)>0):\n",
    "        ok_close = app_dlg.descendants(title = \"Yes\")\n",
    "        ok_close[0].click()\n",
    "    "
   ]
  },
  {
   "cell_type": "markdown",
   "metadata": {},
   "source": [
    "# JANGAN DITUN DULU (INI PILIHAN TERAKHIR)"
   ]
  },
  {
   "cell_type": "code",
   "execution_count": null,
   "metadata": {},
   "outputs": [],
   "source": []
  }
 ],
 "metadata": {
  "kernelspec": {
   "display_name": "Python 3.10.3 64-bit",
   "language": "python",
   "name": "python3"
  },
  "language_info": {
   "codemirror_mode": {
    "name": "ipython",
    "version": 3
   },
   "file_extension": ".py",
   "mimetype": "text/x-python",
   "name": "python",
   "nbconvert_exporter": "python",
   "pygments_lexer": "ipython3",
   "version": "3.10.3"
  },
  "orig_nbformat": 4,
  "vscode": {
   "interpreter": {
    "hash": "e462a0a707289914ad68b41b5d1ff966f90e7c9dd4ec700ae26b5bac71e99092"
   }
  }
 },
 "nbformat": 4,
 "nbformat_minor": 2
}
