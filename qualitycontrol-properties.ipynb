{
 "cells": [
  {
   "cell_type": "code",
   "execution_count": 7,
   "id": "11490ac7-939b-4957-a2c2-5505e55b70e6",
   "metadata": {},
   "outputs": [],
   "source": [
    "from pywinauto.application import Application\n",
    "import pywinauto\n",
    "from pywinauto import *\n",
    "from time import sleep\n",
    "from tqdm import tqdm\n",
    "from pywinauto.timings import wait_until, wait_until_passes"
   ]
  },
  {
   "cell_type": "code",
   "execution_count": 8,
   "id": "d1d03a1a-8616-4bbe-9668-7535a30a3884",
   "metadata": {
    "tags": []
   },
   "outputs": [],
   "source": [
    "def qc_to_dr(n):\n",
    "    app = Application(backend='win32').connect(best_match='Kofax Capture Batch Manager')\n",
    "    app_dlg = app.window(best_match='Kofax Capture Batch Manager')\n",
    "    app_dlg.set_focus()\n",
    "\n",
    "    for i in tqdm(range(0,n)):\n",
    "        sleep(1)\n",
    "        app_dlg.ListView.items()[0].click_input(button='left', double=True)\n",
    "        sleep(1)\n",
    "        bp = Desktop()\n",
    "        window_bp = bp.window(title=\"Batch Properties\")\n",
    "        window_bp\n",
    "        window_bp.children(class_name='ComboBox')[1].select('Ready')\n",
    "        window_bp.children(class_name='ComboBox')[0].select('KTM Document Review')\n",
    "        window_bp.children(title='OK')[0].type_keys('{ENTER}')"
   ]
  },
  {
   "cell_type": "code",
   "execution_count": 9,
   "id": "3d45c0bc-7c95-44a0-91ff-92fb0c9e62c1",
   "metadata": {},
   "outputs": [
    {
     "name": "stderr",
     "output_type": "stream",
     "text": [
      "C:\\Users\\BPSAdmin\\anaconda3\\lib\\site-packages\\pywinauto\\application.py:1085: UserWarning: 32-bit application should be automated using 32-bit Python (you use 64-bit Python)\n",
      "  warnings.warn(\n",
      " 20%|████████████████▏                                                                | 59/296 [02:27<09:51,  2.50s/it]\n"
     ]
    },
    {
     "ename": "IndexError",
     "evalue": "list index out of range",
     "output_type": "error",
     "traceback": [
      "\u001b[1;31m---------------------------------------------------------------------------\u001b[0m",
      "\u001b[1;31mIndexError\u001b[0m                                Traceback (most recent call last)",
      "\u001b[1;32m<ipython-input-9-576702e51add>\u001b[0m in \u001b[0;36m<module>\u001b[1;34m\u001b[0m\n\u001b[1;32m----> 1\u001b[1;33m \u001b[0mqc_to_dr\u001b[0m\u001b[1;33m(\u001b[0m\u001b[1;36m296\u001b[0m\u001b[1;33m)\u001b[0m\u001b[1;33m\u001b[0m\u001b[1;33m\u001b[0m\u001b[0m\n\u001b[0m",
      "\u001b[1;32m<ipython-input-8-1eec181ef58c>\u001b[0m in \u001b[0;36mqc_to_dr\u001b[1;34m(n)\u001b[0m\n\u001b[0;32m      6\u001b[0m     \u001b[1;32mfor\u001b[0m \u001b[0mi\u001b[0m \u001b[1;32min\u001b[0m \u001b[0mtqdm\u001b[0m\u001b[1;33m(\u001b[0m\u001b[0mrange\u001b[0m\u001b[1;33m(\u001b[0m\u001b[1;36m0\u001b[0m\u001b[1;33m,\u001b[0m\u001b[0mn\u001b[0m\u001b[1;33m)\u001b[0m\u001b[1;33m)\u001b[0m\u001b[1;33m:\u001b[0m\u001b[1;33m\u001b[0m\u001b[1;33m\u001b[0m\u001b[0m\n\u001b[0;32m      7\u001b[0m         \u001b[0msleep\u001b[0m\u001b[1;33m(\u001b[0m\u001b[1;36m1\u001b[0m\u001b[1;33m)\u001b[0m\u001b[1;33m\u001b[0m\u001b[1;33m\u001b[0m\u001b[0m\n\u001b[1;32m----> 8\u001b[1;33m         \u001b[0mapp_dlg\u001b[0m\u001b[1;33m.\u001b[0m\u001b[0mListView\u001b[0m\u001b[1;33m.\u001b[0m\u001b[0mitems\u001b[0m\u001b[1;33m(\u001b[0m\u001b[1;33m)\u001b[0m\u001b[1;33m[\u001b[0m\u001b[1;36m0\u001b[0m\u001b[1;33m]\u001b[0m\u001b[1;33m.\u001b[0m\u001b[0mclick_input\u001b[0m\u001b[1;33m(\u001b[0m\u001b[0mbutton\u001b[0m\u001b[1;33m=\u001b[0m\u001b[1;34m'left'\u001b[0m\u001b[1;33m,\u001b[0m \u001b[0mdouble\u001b[0m\u001b[1;33m=\u001b[0m\u001b[1;32mTrue\u001b[0m\u001b[1;33m)\u001b[0m\u001b[1;33m\u001b[0m\u001b[1;33m\u001b[0m\u001b[0m\n\u001b[0m\u001b[0;32m      9\u001b[0m         \u001b[0msleep\u001b[0m\u001b[1;33m(\u001b[0m\u001b[1;36m1\u001b[0m\u001b[1;33m)\u001b[0m\u001b[1;33m\u001b[0m\u001b[1;33m\u001b[0m\u001b[0m\n\u001b[0;32m     10\u001b[0m         \u001b[0mbp\u001b[0m \u001b[1;33m=\u001b[0m \u001b[0mDesktop\u001b[0m\u001b[1;33m(\u001b[0m\u001b[1;33m)\u001b[0m\u001b[1;33m\u001b[0m\u001b[1;33m\u001b[0m\u001b[0m\n",
      "\u001b[1;31mIndexError\u001b[0m: list index out of range"
     ]
    }
   ],
   "source": [
    "qc_to_dr(296)"
   ]
  },
  {
   "cell_type": "code",
   "execution_count": null,
   "id": "dc44cbaa-528b-4efe-a0de-e39bf4816129",
   "metadata": {},
   "outputs": [],
   "source": []
  },
  {
   "cell_type": "code",
   "execution_count": null,
   "id": "0216a065-58bf-4993-ae49-5ac66b320d85",
   "metadata": {},
   "outputs": [],
   "source": []
  }
 ],
 "metadata": {
  "kernelspec": {
   "display_name": "Python 3",
   "language": "python",
   "name": "python3"
  },
  "language_info": {
   "codemirror_mode": {
    "name": "ipython",
    "version": 3
   },
   "file_extension": ".py",
   "mimetype": "text/x-python",
   "name": "python",
   "nbconvert_exporter": "python",
   "pygments_lexer": "ipython3",
   "version": "3.8.8"
  }
 },
 "nbformat": 4,
 "nbformat_minor": 5
}
